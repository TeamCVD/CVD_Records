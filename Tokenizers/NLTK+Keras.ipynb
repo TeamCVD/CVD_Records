{
 "cells": [
  {
   "cell_type": "code",
   "execution_count": 11,
   "metadata": {},
   "outputs": [
    {
     "name": "stdout",
     "output_type": "stream",
     "text": [
      "['I', 'am', 'learning', 'PyTorch', '.', 'It', 'is', 'very', 'interesting', '!', 'This', 'is', 'a', 'sample', 'sentence', 'this', 'is', 'boring', 'bu', 'what', 'shall', 'I', 'do', 'githb', 'copilot', 'is', 'not', 'working']\n"
     ]
    }
   ],
   "source": [
    "import torch\n",
    "import nltk\n",
    "from nltk.tokenize import word_tokenize\n",
    "\n",
    "sample_text = \"I am learning PyTorch. It is very interesting! This is a sample sentence this is boring bu what shall I do githb copilot is not working\"\n",
    "\n",
    "# Tokenize the sample text\n",
    "print(word_tokenize(sample_text))\n"
   ]
  }
 ],
 "metadata": {
  "kernelspec": {
   "display_name": "huggingface",
   "language": "python",
   "name": "python3"
  },
  "language_info": {
   "codemirror_mode": {
    "name": "ipython",
    "version": 3
   },
   "file_extension": ".py",
   "mimetype": "text/x-python",
   "name": "python",
   "nbconvert_exporter": "python",
   "pygments_lexer": "ipython3",
   "version": "3.12.2"
  }
 },
 "nbformat": 4,
 "nbformat_minor": 2
}
